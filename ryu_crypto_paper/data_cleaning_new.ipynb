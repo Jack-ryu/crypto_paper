{
 "cells": [
  {
   "attachments": {},
   "cell_type": "markdown",
   "metadata": {},
   "source": [
    "    차이점: 교수님 말씀대로 수동으로 다른 벤더의 값을 채우는게 아니라, 그냥 NaN으로 채우는 게 맞을 것 같다고 말씀하심"
   ]
  },
  {
   "cell_type": "code",
   "execution_count": 2,
   "metadata": {},
   "outputs": [],
   "source": [
    "import numpy as np \n",
    "import pandas as pd \n",
    "import matplotlib.pyplot as plt"
   ]
  },
  {
   "cell_type": "code",
   "execution_count": 30,
   "metadata": {},
   "outputs": [],
   "source": [
    "# Data Loading and pivot\n",
    "data = pd.read_pickle(\"Data/cmktcap_data_final.pickle\")"
   ]
  },
  {
   "cell_type": "code",
   "execution_count": 31,
   "metadata": {},
   "outputs": [
    {
     "data": {
      "text/plain": [
       "Index(['coin_id', 'open', 'high', 'low', 'close', 'vol', 'mktcap', 'timehigh',\n",
       "       'timelow'],\n",
       "      dtype='object')"
      ]
     },
     "execution_count": 31,
     "metadata": {},
     "output_type": "execute_result"
    }
   ],
   "source": [
    "data.columns"
   ]
  },
  {
   "attachments": {},
   "cell_type": "markdown",
   "metadata": {},
   "source": [
    "### 2. mktcap 음수 값 Check!\n",
    "\n",
    "LUA \n",
    "ZNZ"
   ]
  },
  {
   "cell_type": "code",
   "execution_count": 4,
   "metadata": {},
   "outputs": [],
   "source": [
    "data.loc[(data.index == \"2021-05-30\") & (data.coin_id == \"4286\"), \"mktcap\"] = np.nan\n",
    "data.loc[(data.index == \"2021-05-31\") & (data.coin_id == \"4286\"), \"mktcap\"] = np.nan\n",
    "data.loc[(data.index == \"2021-06-01\") & (data.coin_id == \"4286\"), \"mktcap\"] = np.nan\n",
    "\n",
    "data.loc[(data.index == \"2021-03-15\") & (data.coin_id == \"7216\"), \"mktcap\"] = np.nan\n",
    "data.loc[(data.index == \"2021-03-16\") & (data.coin_id == \"7216\"), \"mktcap\"] = np.nan\n",
    "data.loc[(data.index == \"2021-03-17\") & (data.coin_id == \"7216\"), \"mktcap\"] = np.nan"
   ]
  },
  {
   "cell_type": "markdown",
   "metadata": {},
   "source": [
    "점검"
   ]
  },
  {
   "cell_type": "code",
   "execution_count": 32,
   "metadata": {},
   "outputs": [],
   "source": [
    "from multi_run_v3.data_pp import DataPreprocess\n",
    "\n",
    "data_pp = DataPreprocess()\n",
    "data_pp.initialize(data=data)\n",
    "data_pp.make_mask(mktcap_thresh=1_000_000,\n",
    "                  vol_thresh=1_000_000,\n",
    "                  ma=True)"
   ]
  },
  {
   "cell_type": "code",
   "execution_count": 35,
   "metadata": {},
   "outputs": [],
   "source": [
    "mktcap = (data_pp.mktcap_df * data_pp.mask)\n",
    "weight = mktcap.apply(lambda x: x/ np.nansum(x), axis=1)\n",
    "btc = weight.loc[:, '1']\n",
    "eth = weight.loc[:, '1027']\n",
    "xrp = weight.loc[:, '52']"
   ]
  },
  {
   "cell_type": "code",
   "execution_count": 63,
   "metadata": {},
   "outputs": [
    {
     "name": "stdout",
     "output_type": "stream",
     "text": [
      "date\n",
      "2015-05-04    0.984\n",
      "dtype: float64\n",
      "date\n",
      "2018-01-07    0.485\n",
      "dtype: float64\n",
      "date\n",
      "2023-04-16    0.707\n",
      "dtype: float64\n",
      "Mean:  0.789\n"
     ]
    }
   ],
   "source": [
    "tot = weight.loc[:,['1','1027']].loc[\"2014\":].sum(1)\n",
    "\n",
    "print(tot.loc[[tot.idxmax()]].round(3))\n",
    "print(tot.loc[[tot.idxmin()]].round(3))\n",
    "print(tot.iloc[[-1]].round(3))\n",
    "print(\"Mean: \", tot.mean().round(3))"
   ]
  },
  {
   "cell_type": "code",
   "execution_count": 52,
   "metadata": {},
   "outputs": [
    {
     "data": {
      "text/html": [
       "<div>\n",
       "<style scoped>\n",
       "    .dataframe tbody tr th:only-of-type {\n",
       "        vertical-align: middle;\n",
       "    }\n",
       "\n",
       "    .dataframe tbody tr th {\n",
       "        vertical-align: top;\n",
       "    }\n",
       "\n",
       "    .dataframe thead th {\n",
       "        text-align: right;\n",
       "    }\n",
       "</style>\n",
       "<table border=\"1\" class=\"dataframe\">\n",
       "  <thead>\n",
       "    <tr style=\"text-align: right;\">\n",
       "      <th></th>\n",
       "      <th>BTC</th>\n",
       "      <th>ETH</th>\n",
       "      <th>Total</th>\n",
       "    </tr>\n",
       "  </thead>\n",
       "  <tbody>\n",
       "    <tr>\n",
       "      <th>2014</th>\n",
       "      <td>0.947259</td>\n",
       "      <td>NaN</td>\n",
       "      <td>0.947259</td>\n",
       "    </tr>\n",
       "    <tr>\n",
       "      <th>2015</th>\n",
       "      <td>0.948663</td>\n",
       "      <td>0.016955</td>\n",
       "      <td>0.949964</td>\n",
       "    </tr>\n",
       "    <tr>\n",
       "      <th>2016</th>\n",
       "      <td>0.883308</td>\n",
       "      <td>0.082984</td>\n",
       "      <td>0.961984</td>\n",
       "    </tr>\n",
       "    <tr>\n",
       "      <th>2017</th>\n",
       "      <td>0.619580</td>\n",
       "      <td>0.170277</td>\n",
       "      <td>0.789858</td>\n",
       "    </tr>\n",
       "    <tr>\n",
       "      <th>2018</th>\n",
       "      <td>0.476697</td>\n",
       "      <td>0.153881</td>\n",
       "      <td>0.630578</td>\n",
       "    </tr>\n",
       "    <tr>\n",
       "      <th>2019</th>\n",
       "      <td>0.632844</td>\n",
       "      <td>0.097304</td>\n",
       "      <td>0.730148</td>\n",
       "    </tr>\n",
       "    <tr>\n",
       "      <th>2020</th>\n",
       "      <td>0.662258</td>\n",
       "      <td>0.107452</td>\n",
       "      <td>0.769710</td>\n",
       "    </tr>\n",
       "    <tr>\n",
       "      <th>2021</th>\n",
       "      <td>0.506660</td>\n",
       "      <td>0.175744</td>\n",
       "      <td>0.682404</td>\n",
       "    </tr>\n",
       "    <tr>\n",
       "      <th>2022</th>\n",
       "      <td>0.460013</td>\n",
       "      <td>0.204207</td>\n",
       "      <td>0.664220</td>\n",
       "    </tr>\n",
       "    <tr>\n",
       "      <th>2023</th>\n",
       "      <td>0.477706</td>\n",
       "      <td>0.208951</td>\n",
       "      <td>0.686657</td>\n",
       "    </tr>\n",
       "  </tbody>\n",
       "</table>\n",
       "</div>"
      ],
      "text/plain": [
       "           BTC       ETH     Total\n",
       "2014  0.947259       NaN  0.947259\n",
       "2015  0.948663  0.016955  0.949964\n",
       "2016  0.883308  0.082984  0.961984\n",
       "2017  0.619580  0.170277  0.789858\n",
       "2018  0.476697  0.153881  0.630578\n",
       "2019  0.632844  0.097304  0.730148\n",
       "2020  0.662258  0.107452  0.769710\n",
       "2021  0.506660  0.175744  0.682404\n",
       "2022  0.460013  0.204207  0.664220\n",
       "2023  0.477706  0.208951  0.686657"
      ]
     },
     "execution_count": 52,
     "metadata": {},
     "output_type": "execute_result"
    }
   ],
   "source": [
    "btc_w = btc.loc['2014':].resample('Y').mean()\n",
    "eth_w = eth.loc['2014':].resample('Y').mean()\n",
    "#xrp_w = xrp.loc['2014':].resample('Y').mean()\n",
    "total = weight.loc[:,['1','1027']].loc[\"2014\":].sum(1).resample('Y').mean()\n",
    "\n",
    "cc = pd.concat([btc_w, eth_w, total], \n",
    "          axis=1,\n",
    "          keys=['BTC' ,'ETH', 'Total'])\n",
    "cc.index = [str(cc)[:4] for cc in cc.index]\n",
    "cc"
   ]
  },
  {
   "cell_type": "code",
   "execution_count": 22,
   "metadata": {},
   "outputs": [
    {
     "data": {
      "text/plain": [
       "date\n",
       "2014-12-31    0.947259\n",
       "2015-12-31    0.948663\n",
       "2016-12-31    0.883162\n",
       "2017-12-31    0.618217\n",
       "2018-12-31    0.471026\n",
       "2019-12-31    0.619796\n",
       "2020-12-31    0.636139\n",
       "2021-12-31    0.481578\n",
       "2022-12-31    0.400134\n",
       "2023-12-31    0.418292\n",
       "Freq: A-DEC, Name: 1, dtype: float64"
      ]
     },
     "execution_count": 22,
     "metadata": {},
     "output_type": "execute_result"
    }
   ],
   "source": [
    "btc.loc['2014':].resample('Y').mean()"
   ]
  },
  {
   "attachments": {},
   "cell_type": "markdown",
   "metadata": {},
   "source": [
    "### 3. BTC weight가 이상한 날을 잡아보자"
   ]
  },
  {
   "attachments": {},
   "cell_type": "markdown",
   "metadata": {},
   "source": [
    "10월 2일 / 10월 3일\n",
    "\n",
    "7271 : Starname,IOV"
   ]
  },
  {
   "cell_type": "code",
   "execution_count": 14,
   "metadata": {},
   "outputs": [],
   "source": [
    "data.loc[(data.index == \"2021-10-02\") & (data.coin_id == \"7271\"), \"mktcap\"] = np.nan\n",
    "data.loc[(data.index == \"2021-10-02\") & (data.coin_id == \"7271\"), \"close\"] = np.nan\n",
    "\n",
    "data.loc[(data.index == \"2021-10-03\") & (data.coin_id == \"7271\"), \"mktcap\"] = np.nan\n",
    "data.loc[(data.index == \"2021-10-03\") & (data.coin_id == \"7271\"), \"close\"] = np.nan\n",
    "\n",
    "data.loc[(data.index == \"2021-10-04\") & (data.coin_id == \"7271\"), \"mktcap\"] = np.nan\n",
    "data.loc[(data.index == \"2021-10-04\") & (data.coin_id == \"7271\"), \"close\"] = np.nan"
   ]
  },
  {
   "cell_type": "code",
   "execution_count": 19,
   "metadata": {},
   "outputs": [],
   "source": [
    "# Save the Cleaned Data\n",
    "data.to_pickle(\"Data/cmktcap_data_final.pickle\")"
   ]
  }
 ],
 "metadata": {
  "kernelspec": {
   "display_name": "base",
   "language": "python",
   "name": "python3"
  },
  "language_info": {
   "codemirror_mode": {
    "name": "ipython",
    "version": 3
   },
   "file_extension": ".py",
   "mimetype": "text/x-python",
   "name": "python",
   "nbconvert_exporter": "python",
   "pygments_lexer": "ipython3",
   "version": "3.9.13"
  },
  "orig_nbformat": 4
 },
 "nbformat": 4,
 "nbformat_minor": 2
}
