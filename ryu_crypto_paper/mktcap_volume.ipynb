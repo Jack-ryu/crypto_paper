{
 "cells": [
  {
   "attachments": {},
   "cell_type": "markdown",
   "metadata": {},
   "source": [
    "마켓켑과 볼륨이 얼마나 상관성이 높을지?"
   ]
  },
  {
   "cell_type": "code",
   "execution_count": 2,
   "metadata": {},
   "outputs": [],
   "source": [
    "import numpy as np \n",
    "import pandas as pd \n",
    "import matplotlib.pyplot as plt\n",
    "from tqdm import tqdm\n",
    "\n",
    "from tools_ryu import mytool\n",
    "from multi_run_v3.data_pp import DataPreprocess"
   ]
  },
  {
   "cell_type": "code",
   "execution_count": 3,
   "metadata": {},
   "outputs": [],
   "source": [
    "data = pd.read_pickle(\"Data/cmc_data_final2_with_stable.pickle\")\n",
    "\n",
    "with open('Data/cmc_id_list_without_stable.txt', 'r') as file:\n",
    "    content = file.read()\n",
    "numbers = [int(i) for i in content.split() if i.isdigit()]\n",
    "\n",
    "data = data.loc[data.coin_id.isin(numbers)]"
   ]
  },
  {
   "cell_type": "code",
   "execution_count": 3,
   "metadata": {},
   "outputs": [],
   "source": [
    "data_pp = DataPreprocess()\n",
    "data_pp.initialize(data)\n",
    "data_pp.make_mask(mktcap_thresh=1_000_000,\n",
    "                  vol_thresh=1_000_000,\n",
    "                  ma=True)"
   ]
  },
  {
   "cell_type": "code",
   "execution_count": null,
   "metadata": {},
   "outputs": [],
   "source": [
    "start_from = '2017-12'\n",
    "mktcap = data_pp.mktcap_df.loc[start_from:]\n",
    "vol = data_pp.vol_df.loc[start_from:]\n",
    "mask = data_pp.mask.loc[start_from:]"
   ]
  },
  {
   "cell_type": "code",
   "execution_count": null,
   "metadata": {},
   "outputs": [],
   "source": [
    "mktcap = (mktcap * mask)#.resample('W').mean()\n",
    "vol = (vol * mask)#.resample('W').mean()"
   ]
  },
  {
   "cell_type": "code",
   "execution_count": null,
   "metadata": {},
   "outputs": [],
   "source": [
    "mktcap_rank = mktcap.rank(1)\n",
    "vol_rank = vol.rank(1)\n",
    "\n",
    "n_group = 5"
   ]
  },
  {
   "cell_type": "code",
   "execution_count": null,
   "metadata": {},
   "outputs": [],
   "source": [
    "coin_count = mktcap_rank.count(axis=1)  \n",
    "rank_thresh = coin_count.apply(lambda x: [i for i in range(0, x, x//n_group)])\n",
    "\n",
    "# rank 기반으로 그룹을 나눈다    \n",
    "mktcap_mask = {}    \n",
    "\n",
    "for i in range(1, n_group+1):\n",
    "    if i == 1: # 처음\n",
    "        thresh = rank_thresh.apply(lambda x: x[i])  \n",
    "        group_rank =  mktcap_rank.apply(lambda x: x <= thresh, axis=0)\n",
    "    elif i == n_group: # 마지막\n",
    "        thresh = rank_thresh.apply(lambda x: x[i-1])\n",
    "        group_rank = mktcap_rank.apply(lambda x: thresh < x, axis=0)\n",
    "    else:\n",
    "        thresh = rank_thresh.apply(lambda x: x[i])\n",
    "        thresh_1 = rank_thresh.apply(lambda x: x[i-1]) # 뒤에거를 가져와야함\n",
    "        group_rank = mktcap_rank.apply(lambda x: (thresh_1 < x) & (x <= thresh), axis=0)\n",
    "        \n",
    "    group_mask = np.where(group_rank == True, 1, np.nan) # 속도 개선을 위해 replace()를 np.where로 수정 (2023-05-15 Edited)\n",
    "    group_mask = pd.DataFrame(group_mask, index=mktcap_rank.index, columns=mktcap_rank.columns)\n",
    "    mktcap_mask[f\"Q{i}\"] = group_mask"
   ]
  },
  {
   "cell_type": "code",
   "execution_count": null,
   "metadata": {},
   "outputs": [],
   "source": [
    "# rank 기반으로 그룹을 나눈다    \n",
    "vol_mask = {}    \n",
    "\n",
    "for i in range(1, n_group+1):\n",
    "    if i == 1: # 처음\n",
    "        thresh = rank_thresh.apply(lambda x: x[i])  \n",
    "        group_rank =  vol_rank.apply(lambda x: x <= thresh, axis=0)\n",
    "    elif i == n_group: # 마지막\n",
    "        thresh = rank_thresh.apply(lambda x: x[i-1])\n",
    "        group_rank = vol_rank.apply(lambda x: thresh < x, axis=0)\n",
    "    else:\n",
    "        thresh = rank_thresh.apply(lambda x: x[i])\n",
    "        thresh_1 = rank_thresh.apply(lambda x: x[i-1]) # 뒤에거를 가져와야함\n",
    "        group_rank = vol_rank.apply(lambda x: (thresh_1 < x) & (x <= thresh), axis=0)\n",
    "        \n",
    "    group_mask = np.where(group_rank == True, 1, np.nan) # 속도 개선을 위해 replace()를 np.where로 수정 (2023-05-15 Edited)\n",
    "    group_mask = pd.DataFrame(group_mask, index=vol_rank.index, columns=vol_rank.columns)\n",
    "    vol_mask[f\"Q{i}\"] = group_mask"
   ]
  },
  {
   "cell_type": "code",
   "execution_count": null,
   "metadata": {},
   "outputs": [],
   "source": [
    "mktcap_group = ((mktcap_mask['Q1'].fillna(0) * 1) + (mktcap_mask['Q2'].fillna(0) * 2) + (mktcap_mask['Q3'].fillna(0) * 3) + (mktcap_mask['Q4'].fillna(0) * 4) + (mktcap_mask['Q5'].fillna(0) * 5)).replace(0, np.nan).dropna(thresh=1, axis=1).fillna(0)\n",
    "vol_group = ((vol_mask['Q1'].fillna(0) * 1) + (vol_mask['Q2'].fillna(0) * 2) + (vol_mask['Q3'].fillna(0) * 3) + (vol_mask['Q4'].fillna(0) * 4) + (vol_mask['Q5'].fillna(0) * 5)).replace(0, np.nan).dropna(thresh=1, axis=1).fillna(0)"
   ]
  },
  {
   "cell_type": "code",
   "execution_count": null,
   "metadata": {},
   "outputs": [],
   "source": [
    "# Use `stack` to transform DataFrames into Series with MultiIndex\n",
    "mktcap_series = mktcap_group.stack()\n",
    "vol_series = vol_group.stack()\n",
    "\n",
    "# Create a new DataFrame by concatenating the two series side-by-side\n",
    "combined_df = pd.concat([mktcap_series, vol_series], axis=1)\n",
    "combined_df.columns = ['mktcap', 'vol']\n",
    "\n",
    "# Use `groupby` to count occurrences of each combination\n",
    "result_series = combined_df.groupby(['mktcap', 'vol']).size()\n",
    "\n",
    "# Unstack the result to transform it back to a matrix form\n",
    "result_matrix = result_series.unstack(fill_value=0)\n",
    "\n",
    "# If necessary, reindex the result to ensure the same shape as the original matrix\n",
    "result_matrix = result_matrix.reindex(index=[0, 1, 2, 3,4,5], columns=[0, 1, 2, 3,4,5], fill_value=0)\n"
   ]
  },
  {
   "cell_type": "code",
   "execution_count": null,
   "metadata": {},
   "outputs": [],
   "source": [
    "res_matrix_sample = result_matrix.iloc[1:,1:]\n",
    "\n",
    "mktcap_q4 = res_matrix_sample.loc[4,:]\n",
    "volume_q4 = res_matrix_sample.loc[:, 4]\n",
    "\n",
    "mktcap_q5 = res_matrix_sample.loc[5,:]\n",
    "volume_q5 = res_matrix_sample.loc[:, 5]\n",
    "\n",
    "volume_q4_prob = volume_q4 / np.sum(res_matrix_sample.values)\n",
    "mktcap_q4_prob = mktcap_q4 / np.sum(res_matrix_sample.values)\n",
    "\n",
    "volume_q5_prob = volume_q5 / np.sum(res_matrix_sample.values)\n",
    "mktcap_q5_prob = mktcap_q5 / np.sum(res_matrix_sample.values)"
   ]
  },
  {
   "cell_type": "code",
   "execution_count": null,
   "metadata": {},
   "outputs": [],
   "source": [
    "pd.concat([mktcap_q5_prob, volume_q5_prob], axis=1, keys=['mktcap Q5', 'volume Q5']).iloc[:4].sum()"
   ]
  },
  {
   "cell_type": "code",
   "execution_count": null,
   "metadata": {},
   "outputs": [],
   "source": [
    "0.061878 + 0.045750, 0.061878 + 0.040732"
   ]
  },
  {
   "cell_type": "code",
   "execution_count": null,
   "metadata": {},
   "outputs": [],
   "source": [
    "pd.concat([mktcap_q4_prob, volume_q4_prob], axis=1, keys=['mktcap Q4', 'volume Q4']).iloc[:2].sum()"
   ]
  }
 ],
 "metadata": {
  "kernelspec": {
   "display_name": "base",
   "language": "python",
   "name": "python3"
  },
  "language_info": {
   "codemirror_mode": {
    "name": "ipython",
    "version": 3
   },
   "file_extension": ".py",
   "mimetype": "text/x-python",
   "name": "python",
   "nbconvert_exporter": "python",
   "pygments_lexer": "ipython3",
   "version": "3.9.13"
  },
  "orig_nbformat": 4
 },
 "nbformat": 4,
 "nbformat_minor": 2
}
