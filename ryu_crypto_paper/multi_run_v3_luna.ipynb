{
 "cells": [
  {
   "cell_type": "code",
   "execution_count": 2,
   "metadata": {},
   "outputs": [
    {
     "name": "stderr",
     "output_type": "stream",
     "text": [
      "2023-08-26 23:01:15,920\tINFO worker.py:1625 -- Started a local Ray instance.\n"
     ]
    }
   ],
   "source": [
    "import numpy as np \n",
    "import pandas as pd \n",
    "import matplotlib as mpl\n",
    "import matplotlib.pyplot as plt\n",
    "\n",
    "import ray\n",
    "\n",
    "from tools_ryu import mytool\n",
    "from multi_run_v3.data_pp import DataPreprocess\n",
    "from multi_run_v3.momentum import make_group_mask\n",
    "from multi_run_v3.momentum_strategy import *\n",
    "from multi_run_v2.initialize_v2 import make_market_index\n",
    "#from multi_run_v3.backtest import simulate_longonly, simulate_longshort"
   ]
  },
  {
   "cell_type": "code",
   "execution_count": 3,
   "metadata": {},
   "outputs": [],
   "source": [
    "data = pd.read_pickle(\"Data/cmktcap_data_final.pickle\")\n",
    "\n",
    "days_lst = [\"MON\",\"TUE\",\"WED\",\"THU\",\"FRI\",\"SAT\",\"SUN\"]"
   ]
  },
  {
   "cell_type": "code",
   "execution_count": 4,
   "metadata": {},
   "outputs": [],
   "source": [
    "data_pp = DataPreprocess()\n",
    "data_pp.initialize(data=data)\n",
    "data_pp.make_mask(mktcap_thresh=1_000_000,\n",
    "                  vol_thresh=1_000_000,\n",
    "                  ma=True)"
   ]
  },
  {
   "cell_type": "code",
   "execution_count": 5,
   "metadata": {},
   "outputs": [],
   "source": [
    "mkt = make_market_index(data_pp.price_df,\n",
    "                        data_pp.mktcap_df,\n",
    "                        data_pp.vol_df,\n",
    "                        1_000_000,\n",
    "                        1_000_000,\n",
    "                        True)"
   ]
  },
  {
   "cell_type": "code",
   "execution_count": 6,
   "metadata": {},
   "outputs": [],
   "source": [
    "# Terra Luna 제거\n",
    "\n",
    "price_pp = data_pp.price_df.drop(\"4172\", axis=1)\n",
    "mktcap_pp = data_pp.mktcap_df.drop(\"4172\", axis=1)\n",
    "vol_pp = data_pp.vol_df.drop(\"4172\", axis=1)\n",
    "daily_rtn_df = data_pp.daily_rtn_df.drop(\"4172\", axis=1)\n",
    "weekly_rtn = data_pp.weekly_rtn_df.drop(\"4172\", axis=1)\n",
    "mask = data_pp.mask.drop(\"4172\", axis=1)\n",
    "\n",
    "ray_price = ray.put(price_pp)\n",
    "ray_mktcap = ray.put(mktcap_pp)\n",
    "ray_vol = ray.put(vol_pp)\n",
    "ray_daily_rtn = ray.put(daily_rtn_df)\n",
    "ray_weekly_rtn = ray.put(weekly_rtn)\n",
    "ray_mask = ray.put(mask)"
   ]
  },
  {
   "attachments": {},
   "cell_type": "markdown",
   "metadata": {},
   "source": [
    "### Value Weighted, Marketcap Capped "
   ]
  },
  {
   "cell_type": "code",
   "execution_count": 7,
   "metadata": {},
   "outputs": [],
   "source": [
    "momentum_capped_cmkt = {}\n",
    "\n",
    "momentum_capped_future = [weekly_momentum_value_weighted.remote(price_df=ray_price,\n",
    "                                                                       mktcap_df=ray_mktcap,\n",
    "                                                                       daily_rtn_df = ray_daily_rtn,\n",
    "                                                                       weekly_rtn_df = ray_weekly_rtn,\n",
    "                                                                       mask_df = ray_mask,\n",
    "                                                                       fee_rate = 0.0015,\n",
    "                                                                       n_group=5,\n",
    "                                                                       day_of_week=day,\n",
    "                                                                       #num_cap=0.95, # 5% capped\n",
    "                                                                       margin ='cross',\n",
    "                                                                       leverage_ratio=2,\n",
    "                                                                       q4=True) \n",
    "              for day in days_lst]\n",
    "\n",
    "momentum_capped_result = ray.get(momentum_capped_future)"
   ]
  },
  {
   "cell_type": "code",
   "execution_count": 8,
   "metadata": {},
   "outputs": [],
   "source": [
    "momentum_result_dict_c = {\"MON\":momentum_capped_result[0],\n",
    "                          \"TUE\":momentum_capped_result[1],\n",
    "                          \"WED\":momentum_capped_result[2],\n",
    "                          \"THU\":momentum_capped_result[3],\n",
    "                          \"FRI\":momentum_capped_result[4],\n",
    "                          \"SAT\":momentum_capped_result[5],\n",
    "                          \"SUN\":momentum_capped_result[6]}"
   ]
  },
  {
   "cell_type": "code",
   "execution_count": 9,
   "metadata": {},
   "outputs": [],
   "source": [
    "final_c = {}\n",
    "\n",
    "for day in days_lst:\n",
    "    df_day = momentum_result_dict_c[day]\n",
    "    #print(df_day.values())\n",
    "    \n",
    "    concat_df = pd.concat(df_day.values(), axis=1, keys=df_day.keys())\n",
    "    final_c[day] = concat_df\n",
    "\n",
    "fin_c = {}\n",
    "\n",
    "for pf in [\"Long_Q1\",\"Long_Q2\",\"Long_Q3\",\"Long_Q4\",\"Long_Q5\",\"LS\", 'LS_41']:\n",
    "    concat_series_c = pd.concat([df[pf] for key, df in final_c.items()], axis=1).fillna(1).sum(1)\n",
    "    \n",
    "    # 첫날 pf_value를 7로 셋팅\n",
    "    start_idx = concat_series_c.index[0] - pd.Timedelta(days=1)\n",
    "    concat_series_c[start_idx] = 7\n",
    "    fin_c[pf] = concat_series_c.sort_index().pct_change().fillna(0)"
   ]
  },
  {
   "cell_type": "code",
   "execution_count": 10,
   "metadata": {},
   "outputs": [],
   "source": [
    "font = {'family': 'serif', 'style': 'italic'}\n",
    "\n",
    "mpl.rcParams['axes.spines.right'] = False\n",
    "mpl.rcParams['axes.spines.top'] = False"
   ]
  },
  {
   "cell_type": "code",
   "execution_count": null,
   "metadata": {},
   "outputs": [],
   "source": [
    "import matplotlib.dates as mdates\n",
    "\n",
    "np.log((fin_c[\"Long_Q5\"] + 1).cumprod()).plot(figsize=(20,10), c=\"r\", alpha=0.7, fontsize=20)\n",
    "np.log((fin_c[\"Long_Q1\"] + 1).cumprod()).plot(figsize=(20,10), c=\"b\", alpha=0.7)\n",
    "np.log((fin_c[\"LS\"] + 1).cumprod()).plot(figsize=(20,10),c=\"k\", alpha=0.7)\n",
    "#(mkt.loc[fin_c['LS'].index] + 1).cumprod().plot()\n",
    "\n",
    "\n",
    "plt.legend([\"High\", \"Low\",\"H-L\"], fontsize=18)\n",
    "plt.xlabel(\"Date\", fontsize=25)\n",
    "plt.ylabel(\"\\$ Value of Investment (Log)\", fontsize=25)\n",
    "\n",
    "# add shaded region\n",
    "start_date = mdates.date2num(pd.to_datetime('2022-05-01'))\n",
    "end_date = mdates.date2num(pd.to_datetime('2022-05-31'))\n",
    "plt.gca().axvspan(start_date, end_date, facecolor='gray', alpha=0.4)\n",
    "\n",
    "plt.minorticks_off()\n",
    "plt.tight_layout();"
   ]
  },
  {
   "cell_type": "code",
   "execution_count": null,
   "metadata": {},
   "outputs": [],
   "source": [
    "high = (fin_c[\"Long_Q5\"] + 1).cumprod()\n",
    "low = (fin_c[\"Long_Q1\"] + 1).cumprod()\n",
    "h_l = (fin_c[\"LS\"] + 1).cumprod()\n",
    "\n",
    "high_peak = high.cummax()\n",
    "low_peak = low.cummax()\n",
    "h_l_peak = h_l.cummax()\n",
    "\n",
    "high_dd = (high - high_peak) / high_peak\n",
    "low_dd = (low - low_peak) / low_peak\n",
    "h_l_dd = (h_l - h_l_peak) / h_l_peak\n",
    "\n",
    "pd.concat([high_dd, low_dd, h_l_dd], axis=1,\n",
    "          keys=[\"High\",\"Low\",\"H-L\"]).plot(figsize=(20,10), \n",
    "                                          color=[\"red\",\"blue\",\"black\"],\n",
    "                                          alpha=0.7,\n",
    "                                          fontsize=20)\n",
    "\n",
    "plt.xlabel(\"Date\", fontsize=25)\n",
    "plt.ylabel(\"Drawdown\", fontsize=25)\n",
    "\n",
    "plt.legend([\"High\", \"Low\",\"H-L\"], fontsize=18)\n",
    "\n",
    "\n",
    "start_date = mdates.date2num(pd.to_datetime('2022-05-01'))\n",
    "end_date = mdates.date2num(pd.to_datetime('2022-05-31'))\n",
    "plt.gca().axvspan(start_date, end_date, facecolor='gray', alpha=0.4)\n",
    "\n",
    "plt.minorticks_off()\n",
    "plt.tight_layout();"
   ]
  },
  {
   "cell_type": "code",
   "execution_count": 11,
   "metadata": {},
   "outputs": [
    {
     "data": {
      "text/html": [
       "<div>\n",
       "<style scoped>\n",
       "    .dataframe tbody tr th:only-of-type {\n",
       "        vertical-align: middle;\n",
       "    }\n",
       "\n",
       "    .dataframe tbody tr th {\n",
       "        vertical-align: top;\n",
       "    }\n",
       "\n",
       "    .dataframe thead th {\n",
       "        text-align: right;\n",
       "    }\n",
       "</style>\n",
       "<table border=\"1\" class=\"dataframe\">\n",
       "  <thead>\n",
       "    <tr style=\"text-align: right;\">\n",
       "      <th></th>\n",
       "      <th>Long_Q1</th>\n",
       "      <th>Long_Q2</th>\n",
       "      <th>Long_Q3</th>\n",
       "      <th>Long_Q4</th>\n",
       "      <th>Long_Q5</th>\n",
       "      <th>LS</th>\n",
       "      <th>LS_41</th>\n",
       "    </tr>\n",
       "  </thead>\n",
       "  <tbody>\n",
       "    <tr>\n",
       "      <th>Mean</th>\n",
       "      <td>-0.432470</td>\n",
       "      <td>0.011940</td>\n",
       "      <td>0.423600</td>\n",
       "      <td>0.654080</td>\n",
       "      <td>0.681850</td>\n",
       "      <td>2.194870</td>\n",
       "      <td>1.686500</td>\n",
       "    </tr>\n",
       "    <tr>\n",
       "      <th>STD</th>\n",
       "      <td>0.983082</td>\n",
       "      <td>0.917374</td>\n",
       "      <td>0.861566</td>\n",
       "      <td>0.864174</td>\n",
       "      <td>0.955629</td>\n",
       "      <td>2.076580</td>\n",
       "      <td>1.462357</td>\n",
       "    </tr>\n",
       "    <tr>\n",
       "      <th>CAGR</th>\n",
       "      <td>-0.605100</td>\n",
       "      <td>-0.344000</td>\n",
       "      <td>0.044500</td>\n",
       "      <td>0.308700</td>\n",
       "      <td>0.252300</td>\n",
       "      <td>0.601400</td>\n",
       "      <td>0.768900</td>\n",
       "    </tr>\n",
       "    <tr>\n",
       "      <th>MDD</th>\n",
       "      <td>0.998000</td>\n",
       "      <td>0.975000</td>\n",
       "      <td>0.935000</td>\n",
       "      <td>0.911000</td>\n",
       "      <td>0.941000</td>\n",
       "      <td>0.986000</td>\n",
       "      <td>0.956000</td>\n",
       "    </tr>\n",
       "    <tr>\n",
       "      <th>Sharpe</th>\n",
       "      <td>-0.439912</td>\n",
       "      <td>0.013015</td>\n",
       "      <td>0.491663</td>\n",
       "      <td>0.756885</td>\n",
       "      <td>0.713509</td>\n",
       "      <td>1.056964</td>\n",
       "      <td>1.153275</td>\n",
       "    </tr>\n",
       "  </tbody>\n",
       "</table>\n",
       "</div>"
      ],
      "text/plain": [
       "         Long_Q1   Long_Q2   Long_Q3   Long_Q4   Long_Q5        LS     LS_41\n",
       "Mean   -0.432470  0.011940  0.423600  0.654080  0.681850  2.194870  1.686500\n",
       "STD     0.983082  0.917374  0.861566  0.864174  0.955629  2.076580  1.462357\n",
       "CAGR   -0.605100 -0.344000  0.044500  0.308700  0.252300  0.601400  0.768900\n",
       "MDD     0.998000  0.975000  0.935000  0.911000  0.941000  0.986000  0.956000\n",
       "Sharpe -0.439912  0.013015  0.491663  0.756885  0.713509  1.056964  1.153275"
      ]
     },
     "execution_count": 11,
     "metadata": {},
     "output_type": "execute_result"
    }
   ],
   "source": [
    "mytool.print_statistics(fin_c)"
   ]
  },
  {
   "attachments": {},
   "cell_type": "markdown",
   "metadata": {},
   "source": [
    "Volume_weighted_capped"
   ]
  },
  {
   "cell_type": "code",
   "execution_count": null,
   "metadata": {},
   "outputs": [],
   "source": [
    "momentum_capped_cmkt = {}\n",
    "\n",
    "momentum_capped_future = [weekly_momentum_volume_weighted.remote(price_df=ray_price,\n",
    "                                                                       mktcap_df=ray_mktcap,\n",
    "                                                                       vol_df = ray_vol,\n",
    "                                                                       daily_rtn_df = ray_daily_rtn,\n",
    "                                                                       weekly_rtn_df = ray_weekly_rtn,\n",
    "                                                                       mask_df = ray_mask,\n",
    "                                                                       fee_rate = 0.0015,\n",
    "                                                                       n_group=5,\n",
    "                                                                       day_of_week=day,\n",
    "                                                                       #num_cap=0.95, # 5%\n",
    "                                                                       leverage_ratio=2\n",
    "                                                                       ) \n",
    "              for day in days_lst]\n",
    "\n",
    "momentum_capped_result = ray.get(momentum_capped_future)"
   ]
  },
  {
   "cell_type": "code",
   "execution_count": null,
   "metadata": {},
   "outputs": [],
   "source": [
    "momentum_result_dict_c = {\"MON\":momentum_capped_result[0],\n",
    "                          \"TUE\":momentum_capped_result[1],\n",
    "                          \"WED\":momentum_capped_result[2],\n",
    "                          \"THU\":momentum_capped_result[3],\n",
    "                          \"FRI\":momentum_capped_result[4],\n",
    "                          \"SAT\":momentum_capped_result[5],\n",
    "                          \"SUN\":momentum_capped_result[6]}"
   ]
  },
  {
   "cell_type": "code",
   "execution_count": null,
   "metadata": {},
   "outputs": [],
   "source": [
    "final_c = {}\n",
    "\n",
    "for day in days_lst:\n",
    "    df_day = momentum_result_dict_c[day]\n",
    "    #print(df_day.values())\n",
    "    \n",
    "    concat_df = pd.concat(df_day.values(), axis=1, keys=df_day.keys())\n",
    "    final_c[day] = concat_df\n",
    "\n",
    "fin_c = {}\n",
    "\n",
    "for pf in [\"Long_Q1\",\"Long_Q2\",\"Long_Q3\",\"Long_Q4\",\"Long_Q5\",\"LS\"]:\n",
    "    concat_series_c = pd.concat([df[pf] for key, df in final_c.items()], axis=1).fillna(1).sum(1)\n",
    "    \n",
    "    # 첫날 pf_value를 7로 셋팅\n",
    "    start_idx = concat_series_c.index[0] - pd.Timedelta(days=1)\n",
    "    concat_series_c[start_idx] = 7\n",
    "    fin_c[pf] = concat_series_c.sort_index().pct_change().fillna(0)"
   ]
  },
  {
   "cell_type": "code",
   "execution_count": null,
   "metadata": {},
   "outputs": [],
   "source": [
    "import matplotlib.dates as mdates\n",
    "\n",
    "np.log((fin_c[\"Long_Q5\"] + 1).cumprod()).plot(figsize=(20,10), c=\"r\", alpha=0.7, fontsize=20)\n",
    "np.log((fin_c[\"Long_Q1\"] + 1).cumprod()).plot(figsize=(20,10), c=\"b\", alpha=0.7)\n",
    "np.log((fin_c[\"LS\"] + 1).cumprod()).plot(figsize=(20,10),c=\"k\", alpha=0.7)\n",
    "\n",
    "\n",
    "plt.legend([\"High\", \"Low\",\"H-L\"], fontsize=18)\n",
    "plt.xlabel(\"Date\", fontsize=25)\n",
    "plt.ylabel(\"\\$ Value of Investment (Log)\", fontsize=25)\n",
    "\n",
    "# add shaded region\n",
    "start_date = mdates.date2num(pd.to_datetime('2022-05-01'))\n",
    "end_date = mdates.date2num(pd.to_datetime('2022-05-31'))\n",
    "plt.gca().axvspan(start_date, end_date, facecolor='gray', alpha=0.4)\n",
    "\n",
    "plt.minorticks_off()\n",
    "plt.tight_layout();"
   ]
  },
  {
   "cell_type": "code",
   "execution_count": null,
   "metadata": {},
   "outputs": [],
   "source": [
    "high = (fin_c[\"Long_Q5\"] + 1).cumprod()\n",
    "low = (fin_c[\"Long_Q1\"] + 1).cumprod()\n",
    "h_l = (fin_c[\"LS\"] + 1).cumprod()\n",
    "\n",
    "high_peak = high.cummax()\n",
    "low_peak = low.cummax()\n",
    "h_l_peak = h_l.cummax()\n",
    "\n",
    "high_dd = (high - high_peak) / high_peak\n",
    "low_dd = (low - low_peak) / low_peak\n",
    "h_l_dd = (h_l - h_l_peak) / h_l_peak\n",
    "\n",
    "pd.concat([high_dd, low_dd, h_l_dd], axis=1,\n",
    "          keys=[\"High\",\"Low\",\"H-L\"]).plot(figsize=(20,10), \n",
    "                                          color=[\"red\",\"blue\",\"black\"],\n",
    "                                          alpha=0.7,\n",
    "                                          fontsize=18)\n",
    "\n",
    "plt.xlabel(\"Date\", fontsize=25)\n",
    "plt.ylabel(\"Drawdown\", fontsize=25)\n",
    "\n",
    "start_date = mdates.date2num(pd.to_datetime('2022-05-01'))\n",
    "end_date = mdates.date2num(pd.to_datetime('2022-05-31'))\n",
    "plt.gca().axvspan(start_date, end_date, facecolor='gray', alpha=0.4)\n",
    "\n",
    "plt.legend([\"High\", \"Low\",\"H-L\"], fontsize=18)\n",
    "\n",
    "plt.minorticks_off()\n",
    "plt.tight_layout();"
   ]
  },
  {
   "cell_type": "code",
   "execution_count": null,
   "metadata": {},
   "outputs": [],
   "source": [
    "mytool.print_statistics({\"a\":fin_c['LS'].loc[:'2022-05-14']})"
   ]
  },
  {
   "cell_type": "code",
   "execution_count": null,
   "metadata": {},
   "outputs": [],
   "source": [
    "mytool.print_statistics(fin_c)"
   ]
  },
  {
   "attachments": {},
   "cell_type": "markdown",
   "metadata": {},
   "source": [
    "No cap"
   ]
  },
  {
   "cell_type": "code",
   "execution_count": null,
   "metadata": {},
   "outputs": [],
   "source": [
    "momentum_cmkt = {}\n",
    "\n",
    "momentum_future = [weekly_momentum_value_weighted.remote(price_df=ray_price,\n",
    "                                                                mktcap_df=ray_mktcap,\n",
    "                                                                daily_rtn_df = ray_daily_rtn,\n",
    "                                                                weekly_rtn_df = ray_weekly_rtn,\n",
    "                                                                mask_df = ray_mask,\n",
    "                                                                fee_rate = 0.0015,\n",
    "                                                                n_group=5,\n",
    "                                                                day_of_week=day,\n",
    "                                                                ) \n",
    "              for day in days_lst]\n",
    "\n",
    "momentum_result = ray.get(momentum_future)"
   ]
  },
  {
   "cell_type": "code",
   "execution_count": null,
   "metadata": {},
   "outputs": [],
   "source": [
    "momentum_result_dict = {\"MON\":momentum_result[0],\n",
    "                        \"TUE\":momentum_result[1],\n",
    "                        \"WED\":momentum_result[2],\n",
    "                        \"THU\":momentum_result[3],\n",
    "                        \"FRI\":momentum_result[4],\n",
    "                        \"SAT\":momentum_result[5],\n",
    "                        \"SUN\":momentum_result[6]}"
   ]
  },
  {
   "cell_type": "code",
   "execution_count": null,
   "metadata": {},
   "outputs": [],
   "source": [
    "final = {}\n",
    "\n",
    "for day in days_lst:\n",
    "    df_day = momentum_result_dict[day]\n",
    "    #print(df_day.values())\n",
    "    \n",
    "    concat_df = pd.concat(df_day.values(), axis=1, keys=df_day.keys())\n",
    "    final[day] = concat_df\n",
    "\n",
    "fin = {}\n",
    "\n",
    "for pf in [\"Long_Q1\",\"Long_Q2\",\"Long_Q3\",\"Long_Q4\",\"Long_Q5\",\"LS-cross\"]:\n",
    "    concat_series = pd.concat([df[pf] for key, df in final.items()], axis=1).fillna(1).sum(1)\n",
    "    \n",
    "    # 첫날 pf_value를 7로 셋팅\n",
    "    start_idx = concat_series.index[0] - pd.Timedelta(days=1)\n",
    "    concat_series[start_idx] = 7\n",
    "    fin[pf] = concat_series.sort_index().pct_change().fillna(0)"
   ]
  },
  {
   "cell_type": "code",
   "execution_count": null,
   "metadata": {},
   "outputs": [],
   "source": [
    "np.log((fin_c[\"Long_Q5\"] + 1).cumprod()).plot(figsize=(20,10), c=\"r\", alpha=0.7)\n",
    "np.log((fin_c[\"Long_Q1\"] + 1).cumprod()).plot(figsize=(20,10), c=\"b\", alpha=0.7)\n",
    "np.log((fin_c[\"LS-cross\"] + 1).cumprod()).plot(figsize=(20,10),c=\"k\", alpha=0.7)\n",
    "\n",
    "\n",
    "plt.legend([\"High\", \"Low\",\"H-L\"])\n",
    "plt.xlabel(\"Date\", fontsize=18)\n",
    "plt.ylabel(\"\\$ Value of Investment(Log)\", fontsize=18)\n",
    "\n",
    "# add shaded region\n",
    "start_date = mdates.date2num(pd.to_datetime('2022-05-01'))\n",
    "end_date = mdates.date2num(pd.to_datetime('2022-05-31'))\n",
    "plt.gca().axvspan(start_date, end_date, facecolor='gray', alpha=0.4)\n",
    "\n",
    "plt.minorticks_off()\n",
    "plt.tight_layout();"
   ]
  },
  {
   "cell_type": "code",
   "execution_count": null,
   "metadata": {},
   "outputs": [],
   "source": [
    "mytool.print_statistics(fin_c)"
   ]
  },
  {
   "cell_type": "markdown",
   "metadata": {},
   "source": [
    "j-k Momentum"
   ]
  },
  {
   "cell_type": "code",
   "execution_count": null,
   "metadata": {},
   "outputs": [],
   "source": [
    "momentum_capped_cmkt = {}\n",
    "\n",
    "momentum_capped_future = [jk_momentum_value_weighted_capped.remote(mktcap_df=ray_mktcap,\n",
    "                                                                   daily_rtn_df = ray_daily_rtn,\n",
    "                                                                   mask_df = ray_mask,\n",
    "                                                                   fee_rate = 0.0015,\n",
    "                                                                   n_group=5,\n",
    "                                                                   day_of_week=day,\n",
    "                                                                   num_cap=0.95 # 5%\n",
    "                                                                    ) \n",
    "              for day in days_lst]\n",
    "\n",
    "momentum_capped_result = ray.get(momentum_capped_future)"
   ]
  },
  {
   "cell_type": "code",
   "execution_count": null,
   "metadata": {},
   "outputs": [],
   "source": [
    "momentum_result_dict_c = {\"MON\":momentum_capped_result[0],\n",
    "                          \"TUE\":momentum_capped_result[1],\n",
    "                          \"WED\":momentum_capped_result[2],\n",
    "                          \"THU\":momentum_capped_result[3],\n",
    "                          \"FRI\":momentum_capped_result[4],\n",
    "                          \"SAT\":momentum_capped_result[5],\n",
    "                          \"SUN\":momentum_capped_result[6]}"
   ]
  },
  {
   "cell_type": "code",
   "execution_count": null,
   "metadata": {},
   "outputs": [],
   "source": [
    "final_c = {}\n",
    "\n",
    "for day in days_lst:\n",
    "    df_day = momentum_result_dict_c[day]\n",
    "    #print(df_day.values())\n",
    "    \n",
    "    concat_df = pd.concat(df_day.values(), axis=1, keys=df_day.keys())\n",
    "    final_c[day] = concat_df\n",
    "\n",
    "fin_c = {}\n",
    "\n",
    "for pf in [\"Long_Q1\",\"Long_Q2\",\"Long_Q3\",\"Long_Q4\",\"Long_Q5\",\"LS-cross\"]:\n",
    "    concat_series_c = pd.concat([df[pf] for key, df in final_c.items()], axis=1).fillna(1).sum(1)\n",
    "    \n",
    "    # 첫날 pf_value를 7로 셋팅\n",
    "    start_idx = concat_series_c.index[0] - pd.Timedelta(days=1)\n",
    "    concat_series_c[start_idx] = 7\n",
    "    fin_c[pf] = concat_series_c.sort_index().pct_change().fillna(0)"
   ]
  },
  {
   "cell_type": "code",
   "execution_count": null,
   "metadata": {},
   "outputs": [],
   "source": [
    "font = {'family': 'serif', 'style': 'italic'}\n",
    "\n",
    "mpl.rcParams['axes.spines.right'] = False\n",
    "mpl.rcParams['axes.spines.top'] = False"
   ]
  },
  {
   "cell_type": "code",
   "execution_count": null,
   "metadata": {},
   "outputs": [],
   "source": [
    "import matplotlib.dates as mdates\n",
    "\n",
    "np.log((fin_c[\"Long_Q5\"] + 1).cumprod()).plot(figsize=(20,10), c=\"r\", alpha=0.7, fontsize=20)\n",
    "np.log((fin_c[\"Long_Q1\"] + 1).cumprod()).plot(figsize=(20,10), c=\"b\", alpha=0.7)\n",
    "np.log((fin_c[\"LS-cross\"] + 1).cumprod()).plot(figsize=(20,10),c=\"k\", alpha=0.7)\n",
    "\n",
    "\n",
    "plt.legend([\"High\", \"Low\",\"H-L\"], fontsize=18)\n",
    "plt.xlabel(\"Date\", fontsize=25)\n",
    "plt.ylabel(\"\\$ Value of Investment(Log)\", fontsize=25)\n",
    "\n",
    "# add shaded region\n",
    "start_date = mdates.date2num(pd.to_datetime('2022-05-01'))\n",
    "end_date = mdates.date2num(pd.to_datetime('2022-05-31'))\n",
    "plt.gca().axvspan(start_date, end_date, facecolor='gray', alpha=0.4)\n",
    "\n",
    "plt.minorticks_off()\n",
    "plt.tight_layout();"
   ]
  },
  {
   "cell_type": "code",
   "execution_count": null,
   "metadata": {},
   "outputs": [],
   "source": [
    "high = (fin_c[\"Long_Q5\"] + 1).cumprod()\n",
    "low = (fin_c[\"Long_Q1\"] + 1).cumprod()\n",
    "h_l = (fin_c[\"LS-cross\"] + 1).cumprod()\n",
    "\n",
    "high_peak = high.cummax()\n",
    "low_peak = low.cummax()\n",
    "h_l_peak = h_l.cummax()\n",
    "\n",
    "high_dd = (high - high_peak) / high_peak\n",
    "low_dd = (low - low_peak) / low_peak\n",
    "h_l_dd = (h_l - h_l_peak) / h_l_peak\n",
    "\n",
    "pd.concat([high_dd, low_dd, h_l_dd], axis=1,\n",
    "          keys=[\"High\",\"Low\",\"H-L\"]).plot(figsize=(20,10), \n",
    "                                          color=[\"red\",\"blue\",\"black\"],\n",
    "                                          alpha=0.7,\n",
    "                                          fontsize=20)\n",
    "\n",
    "plt.xlabel(\"Date\", fontsize=25)\n",
    "plt.ylabel(\"Drawdown\", fontsize=25)\n",
    "\n",
    "plt.legend([\"High\", \"Low\",\"H-L\"], fontsize=18)\n",
    "\n",
    "\n",
    "start_date = mdates.date2num(pd.to_datetime('2022-05-01'))\n",
    "end_date = mdates.date2num(pd.to_datetime('2022-05-31'))\n",
    "plt.gca().axvspan(start_date, end_date, facecolor='gray', alpha=0.4)\n",
    "\n",
    "plt.minorticks_off()\n",
    "plt.tight_layout();"
   ]
  },
  {
   "cell_type": "code",
   "execution_count": null,
   "metadata": {},
   "outputs": [],
   "source": [
    "#fin_c[\"MKT\"] = mkt.loc[\"2017-12-30\":]\n",
    "stat = mytool.print_statistics(fin_c).iloc[[0,2,3]]\n",
    "stat.loc[\"Sharpe\"] = stat.loc[\"CAGR\"] / stat.loc[\"STD\"]\n",
    "stat.iloc[:3, :] = (stat.iloc[:3, :] * 100).round(2)\n",
    "\n",
    "stat2 = stat.loc[:, [\"Long_Q1\",\"Long_Q2\",\"Long_Q3\",\"Long_Q4\",\"Long_Q5\",\"LS-cross\"]]\n",
    "stat2.columns = [\"1\",\"2\",\"3\",\"4\",\"5\",\"5-1\"]\n",
    "print(stat2.to_latex())\n",
    "#stat2"
   ]
  },
  {
   "attachments": {},
   "cell_type": "markdown",
   "metadata": {},
   "source": [
    "vol weighted jk"
   ]
  },
  {
   "cell_type": "code",
   "execution_count": null,
   "metadata": {},
   "outputs": [],
   "source": [
    "momentum_capped_cmkt = {}\n",
    "\n",
    "momentum_capped_future = [jk_volume_weighted_capped.remote(mktcap_df=ray_mktcap,\n",
    "                                                           vol_df = ray_vol,\n",
    "                                                           daily_rtn_df = ray_daily_rtn,\n",
    "                                                           mask_df = ray_mask,\n",
    "                                                           fee_rate = 0.0015,\n",
    "                                                           n_group=5,\n",
    "                                                           day_of_week=day,\n",
    "                                                           num_cap=0.95 # 5%\n",
    "                                                                       ) \n",
    "              for day in days_lst]\n",
    "\n",
    "momentum_capped_result = ray.get(momentum_capped_future)"
   ]
  },
  {
   "cell_type": "code",
   "execution_count": null,
   "metadata": {},
   "outputs": [],
   "source": [
    "momentum_result_dict_c = {\"MON\":momentum_capped_result[0],\n",
    "                          \"TUE\":momentum_capped_result[1],\n",
    "                          \"WED\":momentum_capped_result[2],\n",
    "                          \"THU\":momentum_capped_result[3],\n",
    "                          \"FRI\":momentum_capped_result[4],\n",
    "                          \"SAT\":momentum_capped_result[5],\n",
    "                          \"SUN\":momentum_capped_result[6]}"
   ]
  },
  {
   "cell_type": "code",
   "execution_count": null,
   "metadata": {},
   "outputs": [],
   "source": [
    "final_c = {}\n",
    "\n",
    "for day in days_lst:\n",
    "    df_day = momentum_result_dict_c[day]\n",
    "    #print(df_day.values())\n",
    "    \n",
    "    concat_df = pd.concat(df_day.values(), axis=1, keys=df_day.keys())\n",
    "    final_c[day] = concat_df\n",
    "\n",
    "fin_c = {}\n",
    "\n",
    "for pf in [\"Long_Q1\",\"Long_Q2\",\"Long_Q3\",\"Long_Q4\",\"Long_Q5\",\"LS-cross\"]:\n",
    "    concat_series_c = pd.concat([df[pf] for key, df in final_c.items()], axis=1).fillna(1).sum(1)\n",
    "    \n",
    "    # 첫날 pf_value를 7로 셋팅\n",
    "    start_idx = concat_series_c.index[0] - pd.Timedelta(days=1)\n",
    "    concat_series_c[start_idx] = 7\n",
    "    fin_c[pf] = concat_series_c.sort_index().pct_change().fillna(0)"
   ]
  },
  {
   "cell_type": "code",
   "execution_count": null,
   "metadata": {},
   "outputs": [],
   "source": [
    "font = {'family': 'serif', 'style': 'italic'}\n",
    "\n",
    "mpl.rcParams['axes.spines.right'] = False\n",
    "mpl.rcParams['axes.spines.top'] = False"
   ]
  },
  {
   "cell_type": "code",
   "execution_count": null,
   "metadata": {},
   "outputs": [],
   "source": [
    "import matplotlib.dates as mdates\n",
    "\n",
    "np.log((fin_c[\"Long_Q5\"] + 1).cumprod()).plot(figsize=(20,10), c=\"r\", alpha=0.7, fontsize=20)\n",
    "np.log((fin_c[\"Long_Q1\"] + 1).cumprod()).plot(figsize=(20,10), c=\"b\", alpha=0.7)\n",
    "np.log((fin_c[\"LS-cross\"] + 1).cumprod()).plot(figsize=(20,10),c=\"k\", alpha=0.7)\n",
    "\n",
    "\n",
    "plt.legend([\"High\", \"Low\",\"H-L\"], fontsize=18)\n",
    "plt.xlabel(\"Date\", fontsize=25)\n",
    "plt.ylabel(\"\\$ Value of Investment(Log)\", fontsize=25)\n",
    "\n",
    "# add shaded region\n",
    "start_date = mdates.date2num(pd.to_datetime('2022-05-01'))\n",
    "end_date = mdates.date2num(pd.to_datetime('2022-05-31'))\n",
    "plt.gca().axvspan(start_date, end_date, facecolor='gray', alpha=0.4)\n",
    "\n",
    "plt.minorticks_off()\n",
    "plt.tight_layout();"
   ]
  },
  {
   "cell_type": "code",
   "execution_count": null,
   "metadata": {},
   "outputs": [],
   "source": [
    "high = (fin_c[\"Long_Q5\"] + 1).cumprod()\n",
    "low = (fin_c[\"Long_Q1\"] + 1).cumprod()\n",
    "h_l = (fin_c[\"LS-cross\"] + 1).cumprod()\n",
    "\n",
    "high_peak = high.cummax()\n",
    "low_peak = low.cummax()\n",
    "h_l_peak = h_l.cummax()\n",
    "\n",
    "high_dd = (high - high_peak) / high_peak\n",
    "low_dd = (low - low_peak) / low_peak\n",
    "h_l_dd = (h_l - h_l_peak) / h_l_peak\n",
    "\n",
    "pd.concat([high_dd, low_dd, h_l_dd], axis=1,\n",
    "          keys=[\"High\",\"Low\",\"H-L\"]).plot(figsize=(20,10), \n",
    "                                          color=[\"red\",\"blue\",\"black\"],\n",
    "                                          alpha=0.7,\n",
    "                                          fontsize=20)\n",
    "\n",
    "plt.xlabel(\"Date\", fontsize=25)\n",
    "plt.ylabel(\"Drawdown\", fontsize=25)\n",
    "\n",
    "plt.legend([\"High\", \"Low\",\"H-L\"], fontsize=18)\n",
    "\n",
    "\n",
    "start_date = mdates.date2num(pd.to_datetime('2022-05-01'))\n",
    "end_date = mdates.date2num(pd.to_datetime('2022-05-31'))\n",
    "plt.gca().axvspan(start_date, end_date, facecolor='gray', alpha=0.4)\n",
    "\n",
    "plt.minorticks_off()\n",
    "plt.tight_layout();"
   ]
  },
  {
   "cell_type": "code",
   "execution_count": null,
   "metadata": {},
   "outputs": [],
   "source": [
    "#fin_c[\"MKT\"] = mkt.loc[\"2017-12-30\":]\n",
    "stat = mytool.print_statistics(fin_c).iloc[[0,2,3]]\n",
    "stat.loc[\"Sharpe\"] = stat.loc[\"CAGR\"] / stat.loc[\"STD\"]\n",
    "stat.iloc[:3, :] = (stat.iloc[:3, :] * 100).round(2)\n",
    "\n",
    "stat2 = stat.loc[:, [\"Long_Q1\",\"Long_Q2\",\"Long_Q3\",\"Long_Q4\",\"Long_Q5\",\"LS-cross\"]]\n",
    "stat2.columns = [\"1\",\"2\",\"3\",\"4\",\"5\",\"5-1\"]\n",
    "print(stat2.to_latex())\n",
    "#stat2"
   ]
  },
  {
   "cell_type": "code",
   "execution_count": null,
   "metadata": {},
   "outputs": [],
   "source": []
  }
 ],
 "metadata": {
  "kernelspec": {
   "display_name": "base",
   "language": "python",
   "name": "python3"
  },
  "language_info": {
   "codemirror_mode": {
    "name": "ipython",
    "version": 3
   },
   "file_extension": ".py",
   "mimetype": "text/x-python",
   "name": "python",
   "nbconvert_exporter": "python",
   "pygments_lexer": "ipython3",
   "version": "3.9.13"
  },
  "orig_nbformat": 4
 },
 "nbformat": 4,
 "nbformat_minor": 2
}
