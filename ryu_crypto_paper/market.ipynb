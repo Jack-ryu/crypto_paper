{
 "cells": [
  {
   "cell_type": "code",
   "execution_count": 1,
   "metadata": {},
   "outputs": [
    {
     "name": "stderr",
     "output_type": "stream",
     "text": [
      "2023-07-24 22:24:17,120\tINFO worker.py:1625 -- Started a local Ray instance.\n"
     ]
    }
   ],
   "source": [
    "import numpy as np \n",
    "import pandas as pd \n",
    "import matplotlib as mpl\n",
    "import matplotlib.pyplot as plt\n",
    "\n",
    "import ray\n",
    "\n",
    "from tools_ryu import mytool\n",
    "from multi_run_v3.data_pp import DataPreprocess\n",
    "from multi_run_v3.momentum import make_group_mask\n",
    "from multi_run_v3.momentum_strategy import *\n",
    "from multi_run_v2.initialize_v2 import make_market_index"
   ]
  },
  {
   "cell_type": "code",
   "execution_count": 2,
   "metadata": {},
   "outputs": [],
   "source": [
    "data = pd.read_pickle(\"Data/cmktcap_data_final.pickle\")\n",
    "\n",
    "days_lst = [\"MON\",\"TUE\",\"WED\",\"THU\",\"FRI\",\"SAT\",\"SUN\"]"
   ]
  },
  {
   "cell_type": "code",
   "execution_count": 3,
   "metadata": {},
   "outputs": [],
   "source": [
    "data_pp = DataPreprocess()\n",
    "data_pp.initialize(data=data)\n",
    "data_pp.make_mask(mktcap_thresh=1_000_000,\n",
    "                  vol_thresh=1_000_000,\n",
    "                  ma=True)"
   ]
  },
  {
   "cell_type": "code",
   "execution_count": 4,
   "metadata": {},
   "outputs": [],
   "source": [
    "mkt = make_market_index(data_pp.price_df,\n",
    "                        data_pp.mktcap_df,\n",
    "                        data_pp.vol_df,\n",
    "                        1_000_000,\n",
    "                        1_000_000,\n",
    "                        True)"
   ]
  },
  {
   "cell_type": "code",
   "execution_count": 96,
   "metadata": {},
   "outputs": [],
   "source": [
    "mkt_pf = (mkt + 1).cumprod()\n",
    "\n",
    "weekly_rtn_dict = {}\n",
    "for day in days_lst:\n",
    "    weekly_rtn = mkt_pf.pct_change(7).resample(f'W-{day}').last()\n",
    "    \n",
    "    mean = weekly_rtn.iloc[1:].mean() \n",
    "    std = weekly_rtn.iloc[1:].std() \n",
    "    \n",
    "    weekly_pf_rtn = (weekly_rtn.fillna(0) + 1).cumprod()\n",
    "    peak = weekly_pf_rtn.cummax()\n",
    "    weekly_mdd = ((weekly_pf_rtn - peak) / peak).min()\n",
    "    \n",
    "    weekly_rtn_dict[day] = {'mean':mean,\n",
    "                            'std':std,\n",
    "                            'MDD':weekly_mdd}"
   ]
  },
  {
   "cell_type": "code",
   "execution_count": 97,
   "metadata": {},
   "outputs": [],
   "source": [
    "m = mkt.iloc[0:].mean() * 7\n",
    "std = mkt.iloc[0:].std() * np.sqrt(7)\n",
    "\n",
    "peak = mkt_pf.cummax()\n",
    "daily_mdd = ((mkt_pf - peak) / peak).min()"
   ]
  },
  {
   "cell_type": "code",
   "execution_count": 100,
   "metadata": {},
   "outputs": [
    {
     "data": {
      "text/html": [
       "<div>\n",
       "<style scoped>\n",
       "    .dataframe tbody tr th:only-of-type {\n",
       "        vertical-align: middle;\n",
       "    }\n",
       "\n",
       "    .dataframe tbody tr th {\n",
       "        vertical-align: top;\n",
       "    }\n",
       "\n",
       "    .dataframe thead th {\n",
       "        text-align: right;\n",
       "    }\n",
       "</style>\n",
       "<table border=\"1\" class=\"dataframe\">\n",
       "  <thead>\n",
       "    <tr style=\"text-align: right;\">\n",
       "      <th></th>\n",
       "      <th>MON</th>\n",
       "      <th>TUE</th>\n",
       "      <th>WED</th>\n",
       "      <th>THU</th>\n",
       "      <th>FRI</th>\n",
       "      <th>SAT</th>\n",
       "      <th>SUN</th>\n",
       "      <th>Daily</th>\n",
       "    </tr>\n",
       "  </thead>\n",
       "  <tbody>\n",
       "    <tr>\n",
       "      <th>mean</th>\n",
       "      <td>0.013090</td>\n",
       "      <td>0.012963</td>\n",
       "      <td>0.013097</td>\n",
       "      <td>0.012843</td>\n",
       "      <td>0.012648</td>\n",
       "      <td>0.013229</td>\n",
       "      <td>0.013083</td>\n",
       "      <td>0.012826</td>\n",
       "    </tr>\n",
       "    <tr>\n",
       "      <th>std</th>\n",
       "      <td>0.106533</td>\n",
       "      <td>0.105841</td>\n",
       "      <td>0.106766</td>\n",
       "      <td>0.104665</td>\n",
       "      <td>0.100750</td>\n",
       "      <td>0.106396</td>\n",
       "      <td>0.106974</td>\n",
       "      <td>0.103435</td>\n",
       "    </tr>\n",
       "    <tr>\n",
       "      <th>MDD</th>\n",
       "      <td>-0.868867</td>\n",
       "      <td>-0.869491</td>\n",
       "      <td>-0.869786</td>\n",
       "      <td>-0.878548</td>\n",
       "      <td>-0.886371</td>\n",
       "      <td>-0.891023</td>\n",
       "      <td>-0.891594</td>\n",
       "      <td>-0.892702</td>\n",
       "    </tr>\n",
       "    <tr>\n",
       "      <th>Sharpe</th>\n",
       "      <td>0.122870</td>\n",
       "      <td>0.122472</td>\n",
       "      <td>0.122669</td>\n",
       "      <td>0.122708</td>\n",
       "      <td>0.125539</td>\n",
       "      <td>0.124338</td>\n",
       "      <td>0.122304</td>\n",
       "      <td>0.123998</td>\n",
       "    </tr>\n",
       "  </tbody>\n",
       "</table>\n",
       "</div>"
      ],
      "text/plain": [
       "             MON       TUE       WED       THU       FRI       SAT       SUN   \n",
       "mean    0.013090  0.012963  0.013097  0.012843  0.012648  0.013229  0.013083  \\\n",
       "std     0.106533  0.105841  0.106766  0.104665  0.100750  0.106396  0.106974   \n",
       "MDD    -0.868867 -0.869491 -0.869786 -0.878548 -0.886371 -0.891023 -0.891594   \n",
       "Sharpe  0.122870  0.122472  0.122669  0.122708  0.125539  0.124338  0.122304   \n",
       "\n",
       "           Daily  \n",
       "mean    0.012826  \n",
       "std     0.103435  \n",
       "MDD    -0.892702  \n",
       "Sharpe  0.123998  "
      ]
     },
     "execution_count": 100,
     "metadata": {},
     "output_type": "execute_result"
    }
   ],
   "source": [
    "df = pd.concat([pd.DataFrame(weekly_rtn_dict),pd.DataFrame([m, std, daily_mdd],\n",
    "                  index=['mean', 'std', 'MDD'],\n",
    "                 columns=['Daily']) ], axis=1)\n",
    "\n",
    "df.loc[\"Sharpe\",:] = df.iloc[0] / df.iloc[1]\n",
    "df"
   ]
  },
  {
   "cell_type": "code",
   "execution_count": 95,
   "metadata": {},
   "outputs": [],
   "source": []
  }
 ],
 "metadata": {
  "kernelspec": {
   "display_name": "base",
   "language": "python",
   "name": "python3"
  },
  "language_info": {
   "codemirror_mode": {
    "name": "ipython",
    "version": 3
   },
   "file_extension": ".py",
   "mimetype": "text/x-python",
   "name": "python",
   "nbconvert_exporter": "python",
   "pygments_lexer": "ipython3",
   "version": "3.9.13"
  },
  "orig_nbformat": 4
 },
 "nbformat": 4,
 "nbformat_minor": 2
}
