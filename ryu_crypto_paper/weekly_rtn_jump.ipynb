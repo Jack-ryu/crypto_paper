{
 "cells": [
  {
   "cell_type": "code",
   "execution_count": 1,
   "metadata": {},
   "outputs": [],
   "source": [
    "import numpy as np \n",
    "import pandas as pd \n",
    "import matplotlib as mpl\n",
    "import matplotlib.pyplot as plt\n",
    "\n",
    "from tools_ryu import mytool\n",
    "from multi_run_v3.data_pp import DataPreprocess\n",
    "from multi_run_v2.initialize_v2 import make_market_index"
   ]
  },
  {
   "cell_type": "code",
   "execution_count": 2,
   "metadata": {},
   "outputs": [],
   "source": [
    "data = pd.read_pickle(\"Data/cmktcap_data_final.pickle\")\n",
    "\n",
    "days_lst = [\"MON\",\"TUE\",\"WED\",\"THU\",\"FRI\",\"SAT\",\"SUN\"]"
   ]
  },
  {
   "cell_type": "code",
   "execution_count": 3,
   "metadata": {},
   "outputs": [],
   "source": [
    "data_pp = DataPreprocess()\n",
    "data_pp.initialize(data=data)"
   ]
  },
  {
   "cell_type": "code",
   "execution_count": 4,
   "metadata": {},
   "outputs": [],
   "source": [
    "data_pp.make_mask(mktcap_thresh=1_000_000,\n",
    "                  vol_thresh=1_000_000,\n",
    "                  ma=True)"
   ]
  },
  {
   "cell_type": "code",
   "execution_count": 23,
   "metadata": {},
   "outputs": [],
   "source": [
    "mkt = make_market_index(price_df=data_pp.price_df,\n",
    "                          mktcap_df=data_pp.mktcap_df,\n",
    "                          vol_df=data_pp.vol_df,\n",
    "                          mktcap_thresh=1_000_000,\n",
    "                          vol_thresh=1_000_000,\n",
    "                          ma=True)"
   ]
  },
  {
   "cell_type": "code",
   "execution_count": 71,
   "metadata": {},
   "outputs": [
    {
     "data": {
      "text/plain": [
       "date\n",
       "2013-12-29         NaN\n",
       "2014-01-05    0.242610\n",
       "2014-01-12   -0.076108\n",
       "2014-01-19    0.008658\n",
       "2014-01-26    0.011553\n",
       "                ...   \n",
       "2023-03-19    0.181713\n",
       "2023-03-26   -0.008415\n",
       "2023-04-02    0.008103\n",
       "2023-04-09    0.009956\n",
       "2023-04-16    0.091207\n",
       "Freq: W-SUN, Length: 486, dtype: float64"
      ]
     },
     "execution_count": 71,
     "metadata": {},
     "output_type": "execute_result"
    }
   ],
   "source": [
    "mkt_weekly = (mkt + 1).cumprod().pct_change(7).resample('W-SUN').last()\n",
    "mkt_weekly"
   ]
  },
  {
   "cell_type": "code",
   "execution_count": 72,
   "metadata": {},
   "outputs": [
    {
     "data": {
      "text/plain": [
       "-0.8915944658358643"
      ]
     },
     "execution_count": 72,
     "metadata": {},
     "output_type": "execute_result"
    }
   ],
   "source": [
    "m = (mkt_weekly.fillna(0)+1).cumprod()\n",
    "h = m.cummax()\n",
    "\n",
    "((m -h) / h).min()"
   ]
  },
  {
   "cell_type": "code",
   "execution_count": null,
   "metadata": {},
   "outputs": [],
   "source": []
  }
 ],
 "metadata": {
  "kernelspec": {
   "display_name": "base",
   "language": "python",
   "name": "python3"
  },
  "language_info": {
   "codemirror_mode": {
    "name": "ipython",
    "version": 3
   },
   "file_extension": ".py",
   "mimetype": "text/x-python",
   "name": "python",
   "nbconvert_exporter": "python",
   "pygments_lexer": "ipython3",
   "version": "3.9.13"
  },
  "orig_nbformat": 4
 },
 "nbformat": 4,
 "nbformat_minor": 2
}
