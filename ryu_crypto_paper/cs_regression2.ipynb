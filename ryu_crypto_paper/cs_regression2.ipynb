{
 "cells": [
  {
   "cell_type": "code",
   "execution_count": 1,
   "metadata": {},
   "outputs": [
    {
     "name": "stderr",
     "output_type": "stream",
     "text": [
      "2023-08-19 18:17:17,778\tINFO worker.py:1625 -- Started a local Ray instance.\n"
     ]
    }
   ],
   "source": [
    "import numpy as np \n",
    "import pandas as pd \n",
    "import matplotlib as mpl\n",
    "import matplotlib.pyplot as plt\n",
    "\n",
    "import ray\n",
    "\n",
    "from tools_ryu import mytool\n",
    "from multi_run_v3.data_pp import DataPreprocess\n",
    "from multi_run_v3.momentum import make_group_mask\n",
    "from multi_run_v3.momentum_strategy import *\n",
    "from multi_run_v2.initialize_v2 import make_market_index\n",
    "#from multi_run_v3.backtest import simulate_longonly, simulate_longshort"
   ]
  },
  {
   "cell_type": "code",
   "execution_count": 2,
   "metadata": {},
   "outputs": [],
   "source": [
    "data = pd.read_pickle(\"Data/cmktcap_data_final.pickle\")\n",
    "\n",
    "days_lst = [\"MON\",\"TUE\",\"WED\",\"THU\",\"FRI\",\"SAT\",\"SUN\"]"
   ]
  },
  {
   "cell_type": "code",
   "execution_count": 3,
   "metadata": {},
   "outputs": [],
   "source": [
    "data_pp = DataPreprocess()\n",
    "data_pp.initialize(data=data)\n",
    "data_pp.make_mask(mktcap_thresh=1_000_000,\n",
    "                  vol_thresh=1_000_000,\n",
    "                  ma=True)"
   ]
  },
  {
   "cell_type": "code",
   "execution_count": 4,
   "metadata": {},
   "outputs": [],
   "source": [
    "mkt = make_market_index(data_pp.price_df,\n",
    "                        data_pp.mktcap_df,\n",
    "                        data_pp.vol_df,\n",
    "                        1_000_000,\n",
    "                        1_000_000,\n",
    "                        True)"
   ]
  },
  {
   "cell_type": "code",
   "execution_count": 5,
   "metadata": {},
   "outputs": [],
   "source": [
    "# Ray Data 생성\n",
    "ray_price = ray.put(data_pp.price_df)\n",
    "ray_mktcap = ray.put(data_pp.mktcap_df)\n",
    "ray_vol = ray.put(data_pp.vol_df)\n",
    "ray_daily_rtn = ray.put(data_pp.daily_rtn_df)\n",
    "ray_weekly_rtn = ray.put(data_pp.weekly_rtn_df)\n",
    "ray_mask = ray.put(data_pp.mask)"
   ]
  },
  {
   "cell_type": "code",
   "execution_count": 6,
   "metadata": {},
   "outputs": [],
   "source": [
    "# Terra Luna 제거\n",
    "\n",
    "#price_pp = cmkt_data[\"price\"].drop(\"4172\", axis=1)\n",
    "#mktcap_pp = cmkt_data[\"mktcap\"].drop(\"4172\", axis=1)\n",
    "#vol_pp = cmkt_data[\"vol\"].drop(\"4172\", axis=1)\n",
    "#ray_price = ray.put(price_pp)\n",
    "#ray_mktcap = ray.put(mktcap_pp)\n",
    "#ray_vol = ray.put(vol_pp)"
   ]
  },
  {
   "attachments": {},
   "cell_type": "markdown",
   "metadata": {},
   "source": [
    "### Value Weighted, Marketcap Capped "
   ]
  },
  {
   "cell_type": "code",
   "execution_count": 6,
   "metadata": {},
   "outputs": [],
   "source": [
    "momentum_capped_cmkt = {}\n",
    "\n",
    "momentum_capped_future = [weekly_momentum_value_weighted.remote(price_df=ray_price,\n",
    "                                                                mktcap_df=ray_mktcap,\n",
    "                                                                daily_rtn_df = ray_daily_rtn,\n",
    "                                                                weekly_rtn_df = ray_weekly_rtn,\n",
    "                                                                mask_df = ray_mask,\n",
    "                                                                fee_rate = 0.0015,\n",
    "                                                                n_group=5,\n",
    "                                                                day_of_week=day,\n",
    "                                                                #num_cap=0.95, # 5% capped\n",
    "                                                                margin ='cross',\n",
    "                                                                leverage_ratio=2) \n",
    "              for day in days_lst]\n",
    "\n",
    "momentum_capped_result = ray.get(momentum_capped_future)"
   ]
  },
  {
   "cell_type": "code",
   "execution_count": 8,
   "metadata": {},
   "outputs": [],
   "source": [
    "momentum_result_dict = {\"MON\":momentum_capped_result[0],\n",
    "                          \"TUE\":momentum_capped_result[1],\n",
    "                          \"WED\":momentum_capped_result[2],\n",
    "                          \"THU\":momentum_capped_result[3],\n",
    "                          \"FRI\":momentum_capped_result[4],\n",
    "                          \"SAT\":momentum_capped_result[5],\n",
    "                          \"SUN\":momentum_capped_result[6]}"
   ]
  },
  {
   "cell_type": "code",
   "execution_count": 54,
   "metadata": {},
   "outputs": [
    {
     "data": {
      "text/plain": [
       "<AxesSubplot:>"
      ]
     },
     "execution_count": 54,
     "metadata": {},
     "output_type": "execute_result"
    },
    {
     "data": {
      "image/png": "[encoded data removed]",
      "text/plain": [
       "<Figure size 640x480 with 1 Axes>"
      ]
     },
     "metadata": {},
     "output_type": "display_data"
    }
   ],
   "source": [
    "(momentum_result_dict['SAT']['Long_Q5'] - momentum_result_dict['SAT'][\"Long_Q1\"]).fillna(0).plot()\n",
    "#momentum_result_dict['FRI'][\"LS\"].plot()\n",
    "#plt.legend(['5-1', 'ls'])"
   ]
  },
  {
   "cell_type": "code",
   "execution_count": 49,
   "metadata": {},
   "outputs": [
    {
     "name": "stdout",
     "output_type": "stream",
     "text": [
      "Long_Q1 coef: -0.0208  / t-stats: -3.9041\n",
      "[-0.02075671  1.1774376 ]\n",
      "Long_Q2 coef: -0.0062  / t-stats: -1.4135\n",
      "[-0.00620742  1.06807372]\n",
      "Long_Q3 coef: -0.0018  / t-stats: -0.6288\n",
      "[-0.00182688  1.04458328]\n",
      "Long_Q4 coef: 0.0024  / t-stats: 0.7191\n",
      "[0.00242486 1.20030821]\n",
      "Long_Q5 coef: 0.0049  / t-stats: 1.0414\n",
      "[0.00487929 1.02945051]\n",
      "LS coef: 0.0439  / t-stats: 2.4032\n",
      "[ 0.04389361 -0.16267959]\n"
     ]
    }
   ],
   "source": [
    "import statsmodels.api as sm\n",
    "date = 'SUN'\n",
    "\n",
    "for what in ['Long_Q1','Long_Q2', 'Long_Q3', 'Long_Q4', 'Long_Q5', 'LS']:\n",
    "    if what == 'LS':\n",
    "        pf = momentum_result_dict[date]['Long_Q5'] - momentum_result_dict[date][\"Long_Q1\"]\n",
    "    \n",
    "    pf = momentum_result_dict[date][what]\n",
    "    pf.loc['2017-12-01'] = 1\n",
    "    pf.sort_index(inplace=True)\n",
    "\n",
    "    y_values = pf.pct_change(7).fillna(0).resample(f'W-{date}').last().iloc[1:]\n",
    "    x_values = ((mkt + 1).resample(f'W-{date}').prod() - 1).loc[y_values.index]\n",
    "\n",
    "    df = pd.concat([y_values, x_values], \n",
    "              axis=1,\n",
    "              keys=['pf', 'mkt'])\n",
    "    \n",
    "    X = df['mkt']\n",
    "    X = sm.add_constant(X)  # Adds a constant term to the predictor\n",
    "    y = df['pf']\n",
    "\n",
    "    # Run the regression\n",
    "    model = sm.OLS(y, X)\n",
    "    results = model.fit()\n",
    "\n",
    "    # Adjust the standard errors using Newey-West with `maxlags`\n",
    "    results_nw = results.get_robustcov_results(cov_type='HAC', use_t=True, maxlags=0)\n",
    "\n",
    "    # Get the coefficient for the constant\n",
    "    const_coef = results_nw.params[0]\n",
    "    const_tstats = results_nw.tvalues[0]\n",
    "    coefficients = results_nw.params\n",
    "\n",
    "    print(f\"{what}\", \"coef:\", round(const_coef, 4), \" / t-stats:\", round(const_tstats, 4))\n",
    "    print(coefficients) "
   ]
  },
  {
   "cell_type": "code",
   "execution_count": null,
   "metadata": {},
   "outputs": [],
   "source": [
    "for long_ in momentum_result_dict_c2['MON'].keys():\n",
    "    feature = momentum_result_dict_c2[f'{day}'][long_].pct_change(7).fillna(0).resample(f'W-{day}').last().iloc[1:]\n",
    "    label = ((mkt + 1).resample(f'W-{day}').prod() - 1).loc[feature.index]\n",
    "\n",
    "            df = pd.concat([feature, label], axis=1, keys=['y', 'X'])\n",
    "            small_dict[long_] = df\n",
    "\n",
    "        result_dict[day] = small_dict\n",
    "\n",
    "    import statsmodels.api as sm\n",
    "\n",
    "    for what in ['Q1','Q2', 'Q3', 'Q4', 'Q5', 'LS']:\n",
    "        q1 = []\n",
    "        for day, data_dict in result_dict.items():\n",
    "            for pos, dic in data_dict.items():\n",
    "                if what in pos:\n",
    "                    q1.append(dic)\n",
    "\n",
    "        df = pd.concat(q1)\n",
    "        df = df.replace(0, np.nan).dropna()     \n",
    "\n",
    "        # Prepare the data\n",
    "        X = df['X']\n",
    "        X = sm.add_constant(X)  # Adds a constant term to the predictor\n",
    "        y = df['y']\n",
    "\n",
    "        # Run the regression\n",
    "        model = sm.OLS(y, X)\n",
    "        results = model.fit()\n",
    "\n",
    "        # Adjust the standard errors using Newey-West with `maxlags`\n",
    "        results_nw = results.get_robustcov_results(cov_type='HAC', use_t=True, maxlags=n)\n",
    "\n",
    "        # Get the coefficient for the constant\n",
    "        const_coef = results_nw.params[0]\n",
    "        const_tstats = results_nw.tvalues[0]\n",
    "        coefficients = results_nw.params\n",
    "\n",
    "        print(f\"{what}\", \"coef:\", round(const_coef, 4), \" / t-stats:\", round(const_tstats, 4))\n",
    "        print(coefficients)"
   ]
  }
 ],
 "metadata": {
  "kernelspec": {
   "display_name": "base",
   "language": "python",
   "name": "python3"
  },
  "language_info": {
   "codemirror_mode": {
    "name": "ipython",
    "version": 3
   },
   "file_extension": ".py",
   "mimetype": "text/x-python",
   "name": "python",
   "nbconvert_exporter": "python",
   "pygments_lexer": "ipython3",
   "version": "3.9.13"
  },
  "orig_nbformat": 4
 },
 "nbformat": 4,
 "nbformat_minor": 2
}
